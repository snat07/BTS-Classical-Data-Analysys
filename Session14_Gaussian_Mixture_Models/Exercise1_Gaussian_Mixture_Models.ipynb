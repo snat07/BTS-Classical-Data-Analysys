{
 "cells": [
  {
   "cell_type": "markdown",
   "metadata": {},
   "source": [
    "# Gaussian Mixture Models\n",
    "In this notebook we will take a look at Gaussian mixture models (GMMs), which can be viewed as an extension of the ideas behind k-means, but can also be a powerful tool for estimation beyond simple clustering.\n",
    "We begin with the standard imports:"
   ]
  },
  {
   "cell_type": "code",
   "execution_count": 1,
   "metadata": {},
   "outputs": [],
   "source": [
    "%matplotlib inline\n",
    "import matplotlib.pyplot as plt\n",
    "import seaborn as sns; sns.set()\n",
    "import numpy as np"
   ]
  },
  {
   "cell_type": "markdown",
   "metadata": {},
   "source": [
    "A Gaussian mixture model (GMM) attempts to find a mixture of multi-dimensional Gaussian probability distributions that best model any input dataset. In the simplest case, GMMs can be used for finding clusters in the same manner as k-means. Generate 400 samples divided in 4 blobs with `cluster_std=0.60, random_state=0`."
   ]
  },
  {
   "cell_type": "code",
   "execution_count": 2,
   "metadata": {},
   "outputs": [],
   "source": [
    "# Generate some data\n",
    "from sklearn.datasets.samples_generator import make_blobs\n",
    "X, y_true = make_blobs(n_samples=400, centers=4,\n",
    "                       cluster_std=0.60, random_state=0)"
   ]
  },
  {
   "cell_type": "markdown",
   "metadata": {},
   "source": [
    "Now import the `GaussianMixture` object from `sklearn.mixture`. Fit a gaussian mixture with 4 components. The method `.predict()` of this object will assign each point to the most probable component."
   ]
  },
  {
   "cell_type": "code",
   "execution_count": 3,
   "metadata": {},
   "outputs": [],
   "source": [
    "from sklearn.mixture import GaussianMixture"
   ]
  },
  {
   "cell_type": "code",
   "execution_count": 6,
   "metadata": {},
   "outputs": [
    {
     "data": {
      "image/png": "[encoded data removed]",
      "text/plain": [
       "<Figure size 432x288 with 1 Axes>"
      ]
     },
     "metadata": {},
     "output_type": "display_data"
    }
   ],
   "source": [
    "gmm = GaussianMixture(n_components=4).fit(X)\n",
    "labels = gmm.predict(X)\n",
    "plt.scatter(X[:, 0], X[:, 1], c=labels, s=40, cmap='viridis');\n",
    "plt.axis('equal');"
   ]
  },
  {
   "cell_type": "markdown",
   "metadata": {},
   "source": [
    "Precisely because GMM is a probabilistic model, it is also possible to find probabilistic cluster assignments. In Scikit-Learn this is done using the `.predict_proba` method. Compute the probabilities for the dataset you have generated, print the shape of the ouput. What are the dimensions? Compute the sum for each row, interpret the results."
   ]
  },
  {
   "cell_type": "code",
   "execution_count": 11,
   "metadata": {},
   "outputs": [],
   "source": [
    "proba = gmm.predict_proba(X)"
   ]
  },
  {
   "cell_type": "code",
   "execution_count": 12,
   "metadata": {},
   "outputs": [
    {
     "data": {
      "text/plain": [
       "array([2.76240973e-07, 4.69238090e-01, 1.75162717e-22, 5.30761633e-01])"
      ]
     },
     "execution_count": 12,
     "metadata": {},
     "output_type": "execute_result"
    }
   ],
   "source": [
    "a[0]"
   ]
  },
  {
   "cell_type": "code",
   "execution_count": 13,
   "metadata": {
    "scrolled": true
   },
   "outputs": [
    {
     "data": {
      "text/plain": [
       "array([1., 1., 1., 1., 1., 1., 1., 1., 1., 1., 1., 1., 1., 1., 1., 1., 1.,\n",
       "       1., 1., 1., 1., 1., 1., 1., 1., 1., 1., 1., 1., 1., 1., 1., 1., 1.,\n",
       "       1., 1., 1., 1., 1., 1., 1., 1., 1., 1., 1., 1., 1., 1., 1., 1., 1.,\n",
       "       1., 1., 1., 1., 1., 1., 1., 1., 1., 1., 1., 1., 1., 1., 1., 1., 1.,\n",
       "       1., 1., 1., 1., 1., 1., 1., 1., 1., 1., 1., 1., 1., 1., 1., 1., 1.,\n",
       "       1., 1., 1., 1., 1., 1., 1., 1., 1., 1., 1., 1., 1., 1., 1., 1., 1.,\n",
       "       1., 1., 1., 1., 1., 1., 1., 1., 1., 1., 1., 1., 1., 1., 1., 1., 1.,\n",
       "       1., 1., 1., 1., 1., 1., 1., 1., 1., 1., 1., 1., 1., 1., 1., 1., 1.,\n",
       "       1., 1., 1., 1., 1., 1., 1., 1., 1., 1., 1., 1., 1., 1., 1., 1., 1.,\n",
       "       1., 1., 1., 1., 1., 1., 1., 1., 1., 1., 1., 1., 1., 1., 1., 1., 1.,\n",
       "       1., 1., 1., 1., 1., 1., 1., 1., 1., 1., 1., 1., 1., 1., 1., 1., 1.,\n",
       "       1., 1., 1., 1., 1., 1., 1., 1., 1., 1., 1., 1., 1., 1., 1., 1., 1.,\n",
       "       1., 1., 1., 1., 1., 1., 1., 1., 1., 1., 1., 1., 1., 1., 1., 1., 1.,\n",
       "       1., 1., 1., 1., 1., 1., 1., 1., 1., 1., 1., 1., 1., 1., 1., 1., 1.,\n",
       "       1., 1., 1., 1., 1., 1., 1., 1., 1., 1., 1., 1., 1., 1., 1., 1., 1.,\n",
       "       1., 1., 1., 1., 1., 1., 1., 1., 1., 1., 1., 1., 1., 1., 1., 1., 1.,\n",
       "       1., 1., 1., 1., 1., 1., 1., 1., 1., 1., 1., 1., 1., 1., 1., 1., 1.,\n",
       "       1., 1., 1., 1., 1., 1., 1., 1., 1., 1., 1., 1., 1., 1., 1., 1., 1.,\n",
       "       1., 1., 1., 1., 1., 1., 1., 1., 1., 1., 1., 1., 1., 1., 1., 1., 1.,\n",
       "       1., 1., 1., 1., 1., 1., 1., 1., 1., 1., 1., 1., 1., 1., 1., 1., 1.,\n",
       "       1., 1., 1., 1., 1., 1., 1., 1., 1., 1., 1., 1., 1., 1., 1., 1., 1.,\n",
       "       1., 1., 1., 1., 1., 1., 1., 1., 1., 1., 1., 1., 1., 1., 1., 1., 1.,\n",
       "       1., 1., 1., 1., 1., 1., 1., 1., 1., 1., 1., 1., 1., 1., 1., 1., 1.,\n",
       "       1., 1., 1., 1., 1., 1., 1., 1., 1.])"
      ]
     },
     "execution_count": 13,
     "metadata": {},
     "output_type": "execute_result"
    }
   ],
   "source": [
    "proba.sum(axis=1)"
   ]
  },
  {
   "cell_type": "markdown",
   "metadata": {},
   "source": [
    "If we want to obtain the abolute probabilities for each sample we can use the `score_samples` method. This will compute the log probability density for each sample. Compute the probabilities for each example of the previous dataset."
   ]
  },
  {
   "cell_type": "code",
   "execution_count": 15,
   "metadata": {
    "scrolled": true
   },
   "outputs": [
    {
     "data": {
      "text/plain": [
       "array([0.00039538, 0.02092562, 0.01055718, 0.09765629, 0.02830027,\n",
       "       0.08848759, 0.11258937, 0.03160782, 0.09512812, 0.08814176,\n",
       "       0.10106811, 0.04202195, 0.00251876, 0.02906484, 0.04136556,\n",
       "       0.00914969, 0.01354278, 0.07511303, 0.07185325, 0.04671242,\n",
       "       0.039645  , 0.07727765, 0.03463146, 0.09007986, 0.08302968,\n",
       "       0.02146888, 0.0387607 , 0.01793941, 0.04730073, 0.00551052,\n",
       "       0.02215141, 0.03361858, 0.04191287, 0.02166137, 0.01154194,\n",
       "       0.12038273, 0.11808309, 0.06326025, 0.09843392, 0.08393965,\n",
       "       0.10298148, 0.05355661, 0.09950141, 0.00631213, 0.07174561,\n",
       "       0.11774701, 0.02672592, 0.10372668, 0.03640213, 0.08808512,\n",
       "       0.10555926, 0.03761825, 0.02554023, 0.05919349, 0.09980794,\n",
       "       0.01601381, 0.04269647, 0.11831877, 0.00396911, 0.0018679 ,\n",
       "       0.1070484 , 0.05389242, 0.0731864 , 0.02283655, 0.09140278,\n",
       "       0.07278054, 0.12156992, 0.00491241, 0.0116259 , 0.00194055,\n",
       "       0.07238421, 0.06085544, 0.07138651, 0.08547546, 0.0187365 ,\n",
       "       0.04142955, 0.00797507, 0.06762854, 0.00275669, 0.0254218 ,\n",
       "       0.0289318 , 0.10091149, 0.02063366, 0.05814513, 0.00390126,\n",
       "       0.00547415, 0.00987663, 0.03749286, 0.0783138 , 0.08314303,\n",
       "       0.07053345, 0.07318592, 0.07465791, 0.07097114, 0.00451324,\n",
       "       0.07100464, 0.02932924, 0.08232021, 0.07060737, 0.05448972,\n",
       "       0.09434359, 0.11308922, 0.047252  , 0.04999774, 0.07578574,\n",
       "       0.02287211, 0.10033958, 0.01612834, 0.04913861, 0.09882161,\n",
       "       0.08877334, 0.06419926, 0.02521135, 0.04400608, 0.06344237,\n",
       "       0.03181521, 0.01010697, 0.07245773, 0.05983212, 0.07135906,\n",
       "       0.0018487 , 0.02435654, 0.03310224, 0.02360287, 0.04656175,\n",
       "       0.09248042, 0.05789008, 0.02922508, 0.04273024, 0.07688376,\n",
       "       0.09697795, 0.01283133, 0.04107965, 0.04628207, 0.09021956,\n",
       "       0.02210893, 0.10146333, 0.1013622 , 0.04130015, 0.08449396,\n",
       "       0.02339714, 0.04604817, 0.00244208, 0.11958228, 0.06186159,\n",
       "       0.0252571 , 0.07503614, 0.05348248, 0.10010861, 0.07726163,\n",
       "       0.0579735 , 0.08588563, 0.07953237, 0.02831784, 0.09500821,\n",
       "       0.09180204, 0.1067764 , 0.08686144, 0.0367179 , 0.08306898,\n",
       "       0.06226145, 0.001896  , 0.04960818, 0.06179689, 0.0163352 ,\n",
       "       0.05774139, 0.02950235, 0.10965319, 0.08370199, 0.04308484,\n",
       "       0.04059897, 0.00554693, 0.00971567, 0.09696107, 0.00617151,\n",
       "       0.01540392, 0.07631196, 0.0810392 , 0.10232212, 0.02873967,\n",
       "       0.02623691, 0.01506327, 0.07098671, 0.05029957, 0.02424238,\n",
       "       0.09282639, 0.06021177, 0.01099831, 0.00619184, 0.06675052,\n",
       "       0.08165539, 0.04435547, 0.02128594, 0.06606511, 0.06165192,\n",
       "       0.06985051, 0.08442206, 0.00349874, 0.09407379, 0.05031693,\n",
       "       0.09924365, 0.08618634, 0.08477105, 0.1169968 , 0.02456751,\n",
       "       0.02772816, 0.08977763, 0.11583574, 0.07792791, 0.10587832,\n",
       "       0.07294936, 0.06354633, 0.05680027, 0.03235943, 0.06441296,\n",
       "       0.12195785, 0.05220996, 0.00949364, 0.05874278, 0.09969673,\n",
       "       0.09768925, 0.07171619, 0.10582743, 0.0539065 , 0.01451015,\n",
       "       0.01071372, 0.1003525 , 0.09281664, 0.08152014, 0.11362681,\n",
       "       0.10250806, 0.10206116, 0.01257532, 0.06148944, 0.04811186,\n",
       "       0.00366844, 0.02192598, 0.09417079, 0.05699577, 0.08810922,\n",
       "       0.08340743, 0.07999   , 0.07677388, 0.09968404, 0.03218928,\n",
       "       0.10089242, 0.10586036, 0.08790544, 0.1018914 , 0.02204123,\n",
       "       0.01260877, 0.084899  , 0.09874515, 0.05699147, 0.04568309,\n",
       "       0.01015678, 0.04747229, 0.03744949, 0.06467902, 0.02825355,\n",
       "       0.09312978, 0.0490618 , 0.09720815, 0.08790236, 0.02342267,\n",
       "       0.08100953, 0.06534904, 0.08450811, 0.03280612, 0.05017993,\n",
       "       0.04581473, 0.0044535 , 0.05113224, 0.08587107, 0.0202968 ,\n",
       "       0.00156756, 0.02666955, 0.10315662, 0.06986167, 0.08936428,\n",
       "       0.07858197, 0.11796029, 0.05798676, 0.05211499, 0.09299949,\n",
       "       0.05935411, 0.0671322 , 0.04361424, 0.06230641, 0.06172817,\n",
       "       0.02516232, 0.0477018 , 0.08238181, 0.06921088, 0.10350806,\n",
       "       0.04514258, 0.12422688, 0.04986503, 0.02051815, 0.00253846,\n",
       "       0.0826431 , 0.0144585 , 0.05401408, 0.12096213, 0.05358512,\n",
       "       0.0736575 , 0.0234667 , 0.05090425, 0.06618377, 0.05645692,\n",
       "       0.11615665, 0.09921081, 0.06162425, 0.0129243 , 0.09415346,\n",
       "       0.00730445, 0.04819161, 0.0093501 , 0.03363008, 0.05947557,\n",
       "       0.08045477, 0.04649153, 0.01812489, 0.0557497 , 0.0495677 ,\n",
       "       0.10288715, 0.03413778, 0.02729325, 0.00436972, 0.08259088,\n",
       "       0.05147021, 0.02319534, 0.02530801, 0.06233155, 0.02404553,\n",
       "       0.00650848, 0.01955808, 0.02022235, 0.03795205, 0.02993807,\n",
       "       0.04025981, 0.02637431, 0.02345215, 0.02965911, 0.03448252,\n",
       "       0.08377454, 0.12087018, 0.08741011, 0.09736427, 0.03374297,\n",
       "       0.11109785, 0.04560117, 0.06890544, 0.0168775 , 0.11935749,\n",
       "       0.08021416, 0.03040715, 0.09672752, 0.0651933 , 0.08419929,\n",
       "       0.08679637, 0.03742643, 0.07156102, 0.04334203, 0.02425553,\n",
       "       0.03055449, 0.08833259, 0.01788325, 0.05938742, 0.07336157,\n",
       "       0.05645059, 0.02288917, 0.05022955, 0.10136205, 0.01113971,\n",
       "       0.05847434, 0.10236459, 0.08143237, 0.0194765 , 0.11758683,\n",
       "       0.09685125, 0.02385725, 0.07696309, 0.0717842 , 0.01226192,\n",
       "       0.00991285, 0.07662609, 0.04315179, 0.02962096, 0.02131027,\n",
       "       0.06714147, 0.04004904, 0.09565601, 0.08742496, 0.01142633,\n",
       "       0.04315073, 0.0577925 , 0.04683695, 0.00448555, 0.02878951])"
      ]
     },
     "execution_count": 15,
     "metadata": {},
     "output_type": "execute_result"
    }
   ],
   "source": [
    "np.exp(gmm.score_samples(X))"
   ]
  },
  {
   "cell_type": "markdown",
   "metadata": {},
   "source": [
    "The following code generates a plot of the gmm fitted to a set of points and the shape of the fitted gaussian distributions"
   ]
  },
  {
   "cell_type": "code",
   "execution_count": 16,
   "metadata": {},
   "outputs": [],
   "source": [
    "from matplotlib.patches import Ellipse\n",
    "\n",
    "def draw_ellipse(position, covariance, ax=None, **kwargs):\n",
    "    \"\"\"Draw an ellipse with a given position and covariance\"\"\"\n",
    "    ax = ax or plt.gca()\n",
    "    \n",
    "    # Convert covariance to principal axes\n",
    "    if covariance.shape == (2, 2):\n",
    "        U, s, Vt = np.linalg.svd(covariance)\n",
    "        angle = np.degrees(np.arctan2(U[1, 0], U[0, 0]))\n",
    "        width, height = 2 * np.sqrt(s)\n",
    "    elif covariance.shape == (2,):\n",
    "        angle = 0\n",
    "        width, height = 2 * np.sqrt(covariance)\n",
    "    else:\n",
    "        angle = 0\n",
    "        height = 2 * np.sqrt(covariance)\n",
    "        width = 2 * np.sqrt(covariance)\n",
    "        \n",
    "    # Draw the Ellipse\n",
    "    for nsig in range(1, 4):\n",
    "        ax.add_patch(Ellipse(position, nsig * width, nsig * height,\n",
    "                             angle, **kwargs))\n",
    "        \n",
    "def plot_gmm(gmm, X, label=True, ax=None):\n",
    "    ax = ax or plt.gca()\n",
    "    labels = gmm.fit(X).predict(X)\n",
    "    if label:\n",
    "        ax.scatter(X[:, 0], X[:, 1], c=labels, s=40, cmap='viridis')\n",
    "    else:\n",
    "        ax.scatter(X[:, 0], X[:, 1], s=40)\n",
    "    ax.axis('equal')\n",
    "    \n",
    "    w_factor = 0.2 / gmm.weights_.max()\n",
    "    if gmm.covariance_type == 'tied':\n",
    "        for pos, w in zip(gmm.means_, gmm.weights_):\n",
    "            draw_ellipse(pos, gmm.covariances_, alpha=w * w_factor, color = 'red')\n",
    "    else:\n",
    "        for pos, covar, w in zip(gmm.means_, gmm.covariances_, gmm.weights_):\n",
    "            draw_ellipse(pos, covar, alpha=w * w_factor, color = 'red')"
   ]
  },
  {
   "cell_type": "markdown",
   "metadata": {},
   "source": [
    "Plot the Gaussian Mixture for the dataset you have created."
   ]
  },
  {
   "cell_type": "code",
   "execution_count": 17,
   "metadata": {},
   "outputs": [
    {
     "data": {
      "image/png": "[encoded data removed]",
      "text/plain": [
       "<Figure size 432x288 with 1 Axes>"
      ]
     },
     "metadata": {},
     "output_type": "display_data"
    }
   ],
   "source": [
    "plot_gmm(gmm,X)"
   ]
  },
  {
   "cell_type": "code",
   "execution_count": null,
   "metadata": {},
   "outputs": [],
   "source": []
  },
  {
   "cell_type": "markdown",
   "metadata": {},
   "source": [
    "Similarly, we can use the GMM approach to fit a dataset with stretched clusters. The following code will stretch out the previous points."
   ]
  },
  {
   "cell_type": "code",
   "execution_count": null,
   "metadata": {},
   "outputs": [],
   "source": [
    "rng = np.random.RandomState(13)\n",
    "X_stretched = np.dot(X, rng.randn(2, 2))"
   ]
  },
  {
   "cell_type": "markdown",
   "metadata": {},
   "source": [
    "Now fit the GaussianMixture to this new data and plot the results. Try different covariance types"
   ]
  },
  {
   "cell_type": "code",
   "execution_count": null,
   "metadata": {},
   "outputs": [],
   "source": []
  },
  {
   "cell_type": "markdown",
   "metadata": {},
   "source": [
    "## GMM as density estimation\n",
    "Though GMM can be used as a clustering algorithm, fundamentally it is an algorithm for density estimation. The result of a GMM fit to some data is technically not a clustering model, but a generative probabilistic model describing the distribution of the data. As an example, generate the circles from sklearn. Generate 200 samples and plot the data set."
   ]
  },
  {
   "cell_type": "code",
   "execution_count": null,
   "metadata": {},
   "outputs": [],
   "source": []
  },
  {
   "cell_type": "code",
   "execution_count": null,
   "metadata": {},
   "outputs": [],
   "source": []
  },
  {
   "cell_type": "markdown",
   "metadata": {},
   "source": [
    "Now create a GMM with two components and plot the results of the fit. What are your conclusions?"
   ]
  },
  {
   "cell_type": "code",
   "execution_count": null,
   "metadata": {},
   "outputs": [],
   "source": []
  },
  {
   "cell_type": "markdown",
   "metadata": {},
   "source": [
    "Let us think about the GMM as a density estimation model, create a new GMM with 20 components and fit the data. Plot the results with the option `label=False`."
   ]
  },
  {
   "cell_type": "code",
   "execution_count": null,
   "metadata": {},
   "outputs": [],
   "source": []
  },
  {
   "cell_type": "markdown",
   "metadata": {},
   "source": [
    "Here the mixture of 20 Gaussians serves not to find separated clusters of data, but rather to model the overall distribution of the input data. This is a generative model of the distribution, meaning that the GMM gives us the recipe to generate new random data distributed similarly to our input. Now generate new data from the fitted distribution. You may generate points with the method `sample`. Generate 200 points and plot them."
   ]
  },
  {
   "cell_type": "code",
   "execution_count": null,
   "metadata": {},
   "outputs": [],
   "source": []
  },
  {
   "cell_type": "markdown",
   "metadata": {},
   "source": [
    "## How do we choose the appropriate number of components?\n",
    "\n",
    "The fact that GMM is a generative model gives us a natural means of determining the optimal number of components for a given dataset. A generative model is inherently a probability distribution for the dataset, and so we can simply evaluate the likelihood of the data under the model, using cross-validation to avoid over-fitting. Another means of correcting for over-fitting is to adjust the model likelihoods using some analytic criterion such as the Akaike information criterion (AIC) or the Bayesian information criterion (BIC). Scikit-Learn's GMM estimator actually includes built-in methods that compute both of these, and so it is very easy to operate on this approach.\n",
    "\n",
    "Let's look at the AIC and BIC as a function as the number of GMM components for our circles dataset. Generate models with number of components between 4 and 30, `random_sate=0` and store the BIC and AIC for each model. Finally plot them in a single plot."
   ]
  },
  {
   "cell_type": "code",
   "execution_count": null,
   "metadata": {},
   "outputs": [],
   "source": []
  },
  {
   "cell_type": "markdown",
   "metadata": {},
   "source": [
    "Extract the number of components that minimizes the AIC and the BIC. You may do so with `np.argmax`"
   ]
  },
  {
   "cell_type": "code",
   "execution_count": null,
   "metadata": {},
   "outputs": [],
   "source": []
  },
  {
   "cell_type": "markdown",
   "metadata": {},
   "source": [
    "## Generating images of hand-written digits\n",
    "We just saw a an example of using GMM as a generative model of data in order to create new samples from the distribution defined by the input data. Here we will run with this idea and generate new handwritten digits from the MNIST dataset. Load the dataset with `load_digits`. "
   ]
  },
  {
   "cell_type": "code",
   "execution_count": null,
   "metadata": {},
   "outputs": [],
   "source": []
  },
  {
   "cell_type": "markdown",
   "metadata": {},
   "source": [
    "Make a 10x10 plot of images"
   ]
  },
  {
   "cell_type": "code",
   "execution_count": null,
   "metadata": {},
   "outputs": [],
   "source": []
  },
  {
   "cell_type": "markdown",
   "metadata": {},
   "source": [
    "GMMs can have difficulty converging in such a high dimensional space, so we will start with an invertible dimensionality reduction algorithm on the data. Here we will use a straightforward PCA, asking it to preserve 99% of the variance in the projected data."
   ]
  },
  {
   "cell_type": "code",
   "execution_count": null,
   "metadata": {},
   "outputs": [],
   "source": []
  },
  {
   "cell_type": "code",
   "execution_count": null,
   "metadata": {},
   "outputs": [],
   "source": []
  },
  {
   "cell_type": "markdown",
   "metadata": {},
   "source": [
    "Select the number of components that minimizes the AIC. Now let us fit this model to the data and check it has converged with `.converged_`."
   ]
  },
  {
   "cell_type": "code",
   "execution_count": null,
   "metadata": {},
   "outputs": [],
   "source": []
  },
  {
   "cell_type": "code",
   "execution_count": null,
   "metadata": {},
   "outputs": [],
   "source": []
  },
  {
   "cell_type": "markdown",
   "metadata": {},
   "source": [
    "Now draw samples of 100 new points within this 41-dimensional projected space, using the GMM as a generative model. "
   ]
  },
  {
   "cell_type": "code",
   "execution_count": null,
   "metadata": {},
   "outputs": [],
   "source": []
  },
  {
   "cell_type": "markdown",
   "metadata": {},
   "source": [
    "Finally, inverse transform the PCA object to construct the new digits and plot them."
   ]
  },
  {
   "cell_type": "code",
   "execution_count": null,
   "metadata": {},
   "outputs": [],
   "source": []
  }
 ],
 "metadata": {
  "kernelspec": {
   "display_name": "Python 3",
   "language": "python",
   "name": "python3"
  },
  "language_info": {
   "codemirror_mode": {
    "name": "ipython",
    "version": 3
   },
   "file_extension": ".py",
   "mimetype": "text/x-python",
   "name": "python",
   "nbconvert_exporter": "python",
   "pygments_lexer": "ipython3",
   "version": "3.6.5"
  }
 },
 "nbformat": 4,
 "nbformat_minor": 2
}
