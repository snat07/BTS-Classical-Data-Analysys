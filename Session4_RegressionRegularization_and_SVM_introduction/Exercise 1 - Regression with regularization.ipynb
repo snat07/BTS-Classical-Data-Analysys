{
 "cells": [
  {
   "cell_type": "markdown",
   "metadata": {},
   "source": [
    "# Regression with regularization"
   ]
  },
  {
   "cell_type": "markdown",
   "metadata": {},
   "source": [
    "Ridge and Lasso regression are some of the simple techniques to reduce model complexity and prevent over-fitting which may result from simple linear regression."
   ]
  },
  {
   "cell_type": "markdown",
   "metadata": {},
   "source": [
    "## Ridge Regression:\n",
    "\n",
    "In ridge regression, the cost function is altered by adding a penalty equivalent to square of the magnitude of the coefficients. This is also known as L2 regression\n",
    "\n",
    "<img src=\"Ridge_formula.png\">\n",
    "\n",
    "Now we will apply a ridge regression to the Boston Housing Data Set and compare the results with the linear regression performed in the previous Session. First load the pandas data set, and convert it to a data frame."
   ]
  },
  {
   "cell_type": "code",
   "execution_count": 1,
   "metadata": {},
   "outputs": [
    {
     "data": {
      "text/html": [
       "<div>\n",
       "<style scoped>\n",
       "    .dataframe tbody tr th:only-of-type {\n",
       "        vertical-align: middle;\n",
       "    }\n",
       "\n",
       "    .dataframe tbody tr th {\n",
       "        vertical-align: top;\n",
       "    }\n",
       "\n",
       "    .dataframe thead th {\n",
       "        text-align: right;\n",
       "    }\n",
       "</style>\n",
       "<table border=\"1\" class=\"dataframe\">\n",
       "  <thead>\n",
       "    <tr style=\"text-align: right;\">\n",
       "      <th></th>\n",
       "      <th>CRIM</th>\n",
       "      <th>ZN</th>\n",
       "      <th>INDUS</th>\n",
       "      <th>CHAS</th>\n",
       "      <th>NOX</th>\n",
       "      <th>RM</th>\n",
       "      <th>AGE</th>\n",
       "      <th>DIS</th>\n",
       "      <th>RAD</th>\n",
       "      <th>TAX</th>\n",
       "      <th>PTRATIO</th>\n",
       "      <th>B</th>\n",
       "      <th>LSTAT</th>\n",
       "    </tr>\n",
       "  </thead>\n",
       "  <tbody>\n",
       "    <tr>\n",
       "      <th>0</th>\n",
       "      <td>0.00632</td>\n",
       "      <td>18.0</td>\n",
       "      <td>2.31</td>\n",
       "      <td>0.0</td>\n",
       "      <td>0.538</td>\n",
       "      <td>6.575</td>\n",
       "      <td>65.2</td>\n",
       "      <td>4.0900</td>\n",
       "      <td>1.0</td>\n",
       "      <td>296.0</td>\n",
       "      <td>15.3</td>\n",
       "      <td>396.90</td>\n",
       "      <td>4.98</td>\n",
       "    </tr>\n",
       "    <tr>\n",
       "      <th>1</th>\n",
       "      <td>0.02731</td>\n",
       "      <td>0.0</td>\n",
       "      <td>7.07</td>\n",
       "      <td>0.0</td>\n",
       "      <td>0.469</td>\n",
       "      <td>6.421</td>\n",
       "      <td>78.9</td>\n",
       "      <td>4.9671</td>\n",
       "      <td>2.0</td>\n",
       "      <td>242.0</td>\n",
       "      <td>17.8</td>\n",
       "      <td>396.90</td>\n",
       "      <td>9.14</td>\n",
       "    </tr>\n",
       "    <tr>\n",
       "      <th>2</th>\n",
       "      <td>0.02729</td>\n",
       "      <td>0.0</td>\n",
       "      <td>7.07</td>\n",
       "      <td>0.0</td>\n",
       "      <td>0.469</td>\n",
       "      <td>7.185</td>\n",
       "      <td>61.1</td>\n",
       "      <td>4.9671</td>\n",
       "      <td>2.0</td>\n",
       "      <td>242.0</td>\n",
       "      <td>17.8</td>\n",
       "      <td>392.83</td>\n",
       "      <td>4.03</td>\n",
       "    </tr>\n",
       "    <tr>\n",
       "      <th>3</th>\n",
       "      <td>0.03237</td>\n",
       "      <td>0.0</td>\n",
       "      <td>2.18</td>\n",
       "      <td>0.0</td>\n",
       "      <td>0.458</td>\n",
       "      <td>6.998</td>\n",
       "      <td>45.8</td>\n",
       "      <td>6.0622</td>\n",
       "      <td>3.0</td>\n",
       "      <td>222.0</td>\n",
       "      <td>18.7</td>\n",
       "      <td>394.63</td>\n",
       "      <td>2.94</td>\n",
       "    </tr>\n",
       "    <tr>\n",
       "      <th>4</th>\n",
       "      <td>0.06905</td>\n",
       "      <td>0.0</td>\n",
       "      <td>2.18</td>\n",
       "      <td>0.0</td>\n",
       "      <td>0.458</td>\n",
       "      <td>7.147</td>\n",
       "      <td>54.2</td>\n",
       "      <td>6.0622</td>\n",
       "      <td>3.0</td>\n",
       "      <td>222.0</td>\n",
       "      <td>18.7</td>\n",
       "      <td>396.90</td>\n",
       "      <td>5.33</td>\n",
       "    </tr>\n",
       "  </tbody>\n",
       "</table>\n",
       "</div>"
      ],
      "text/plain": [
       "      CRIM    ZN  INDUS  CHAS    NOX     RM   AGE     DIS  RAD    TAX  \\\n",
       "0  0.00632  18.0   2.31   0.0  0.538  6.575  65.2  4.0900  1.0  296.0   \n",
       "1  0.02731   0.0   7.07   0.0  0.469  6.421  78.9  4.9671  2.0  242.0   \n",
       "2  0.02729   0.0   7.07   0.0  0.469  7.185  61.1  4.9671  2.0  242.0   \n",
       "3  0.03237   0.0   2.18   0.0  0.458  6.998  45.8  6.0622  3.0  222.0   \n",
       "4  0.06905   0.0   2.18   0.0  0.458  7.147  54.2  6.0622  3.0  222.0   \n",
       "\n",
       "   PTRATIO       B  LSTAT  \n",
       "0     15.3  396.90   4.98  \n",
       "1     17.8  396.90   9.14  \n",
       "2     17.8  392.83   4.03  \n",
       "3     18.7  394.63   2.94  \n",
       "4     18.7  396.90   5.33  "
      ]
     },
     "execution_count": 1,
     "metadata": {},
     "output_type": "execute_result"
    }
   ],
   "source": [
    "import matplotlib.pyplot as plt\n",
    "import numpy as np \n",
    "import pandas as pd\n",
    "import matplotlib\n",
    "matplotlib.rcParams.update({'font.size': 12})\n",
    "from sklearn.datasets import load_boston\n",
    "from sklearn.model_selection import train_test_split\n",
    "from sklearn.linear_model import LinearRegression\n",
    "from sklearn.linear_model import Ridge\n",
    "\n",
    "boston=load_boston()\n",
    "boston_df=pd.DataFrame(boston.data,columns=boston.feature_names)\n",
    "\n",
    "boston_df.head()"
   ]
  },
  {
   "cell_type": "markdown",
   "metadata": {},
   "source": [
    "Now define the X and y and split them randomly with sklearn, use 30% of the data for test and select the ```random_state=3```"
   ]
  },
  {
   "cell_type": "code",
   "execution_count": 2,
   "metadata": {},
   "outputs": [],
   "source": [
    "newX = boston_df\n",
    "newY = boston.target"
   ]
  },
  {
   "cell_type": "code",
   "execution_count": 3,
   "metadata": {},
   "outputs": [],
   "source": [
    "X_train,X_test,y_train,y_test=train_test_split(newX,newY,test_size=0.3,random_state=3)"
   ]
  },
  {
   "cell_type": "markdown",
   "metadata": {},
   "source": [
    "First define a linear regression model, and fit the data"
   ]
  },
  {
   "cell_type": "code",
   "execution_count": 4,
   "metadata": {},
   "outputs": [
    {
     "data": {
      "text/plain": [
       "LinearRegression(copy_X=True, fit_intercept=True, n_jobs=None,\n",
       "         normalize=False)"
      ]
     },
     "execution_count": 4,
     "metadata": {},
     "output_type": "execute_result"
    }
   ],
   "source": [
    "lr = LinearRegression()\n",
    "lr.fit(X_train, y_train)"
   ]
  },
  {
   "cell_type": "markdown",
   "metadata": {},
   "source": [
    "Now define a ridge regression model, set ```alpha=0.3```. What is the alpha parameter doing? What would you expect to happen for alpha very small? And for alpha very large? Set the option ```normalize=True```. Why is it a good practice to normalize? What effect would the regularization term have over two features, one 10 times larger than the other?"
   ]
  },
  {
   "cell_type": "code",
   "execution_count": 5,
   "metadata": {},
   "outputs": [
    {
     "data": {
      "text/plain": [
       "Ridge(alpha=0.3, copy_X=True, fit_intercept=True, max_iter=None,\n",
       "   normalize=True, random_state=None, solver='auto', tol=0.001)"
      ]
     },
     "execution_count": 5,
     "metadata": {},
     "output_type": "execute_result"
    }
   ],
   "source": [
    "rr = Ridge(alpha=0.3, normalize=True)\n",
    "rr.fit(X_train, y_train)"
   ]
  },
  {
   "cell_type": "markdown",
   "metadata": {},
   "source": [
    "Build two more ridge regression models but with alpha taking values 1e-5 and 10. Then compute the scores over the train and test sets for all models and print them."
   ]
  },
  {
   "cell_type": "code",
   "execution_count": null,
   "metadata": {},
   "outputs": [],
   "source": []
  },
  {
   "cell_type": "code",
   "execution_count": 6,
   "metadata": {},
   "outputs": [
    {
     "name": "stdout",
     "output_type": "stream",
     "text": [
      "linear regression train score: 0.7419034960343789\n",
      "linear regression test score: 0.7147895265576858\n",
      "ridge regression train score medium alpha: 0.7154773726418074\n",
      "ridge regression test score medium alpha: 0.6862615478455701\n",
      "ridge regression train score low alpha: 0.7419034958402708\n",
      "ridge regression test score low alpha: 0.7147869393410166\n",
      "ridge regression train score high alpha: 0.3003706602306444\n",
      "ridge regression test score high alpha: 0.3089595282183286\n"
     ]
    }
   ],
   "source": [
    "rr_small = Ridge(alpha=1e-5, normalize=True) \n",
    "rr_small.fit(X_train, y_train)\n",
    "\n",
    "rr10 = Ridge(alpha=10, normalize=True) \n",
    "rr10.fit(X_train, y_train)\n",
    "\n",
    "train_score=lr.score(X_train, y_train)\n",
    "test_score=lr.score(X_test, y_test,)\n",
    "Ridge_train_score = rr.score(X_train,y_train)\n",
    "Ridge_test_score = rr.score(X_test, y_test)\n",
    "Ridge_train_score10 = rr10.score(X_train,y_train)\n",
    "Ridge_test_score10 = rr10.score(X_test, y_test)\n",
    "Ridge_train_score_small = rr_small.score(X_train,y_train)\n",
    "Ridge_test_score_small = rr_small.score(X_test, y_test)\n",
    "\n",
    "print(f\"linear regression train score: {train_score}\")\n",
    "print(f\"linear regression test score: {test_score}\")\n",
    "print(f\"ridge regression train score medium alpha: {Ridge_train_score}\")\n",
    "print(f\"ridge regression test score medium alpha: {Ridge_test_score}\")\n",
    "print(f\"ridge regression train score low alpha: {Ridge_train_score_small}\")\n",
    "print(f\"ridge regression test score low alpha: {Ridge_test_score_small}\")\n",
    "print(f\"ridge regression train score high alpha: {Ridge_train_score10}\")\n",
    "print(f\"ridge regression test score high alpha: {Ridge_test_score10}\")"
   ]
  },
  {
   "cell_type": "markdown",
   "metadata": {},
   "source": [
    "Finally, generate a plot with the fitted coefficients for the different models. Use ```plt.plot()``` function and change the ```marker='*','d', 's', 'o'``` and ```color='red', 'blue', 'yellow', 'green'``` parameters to distinguish the different points. Also you should add a legend so the plot is interpretable. Comment on the graphic: How come when alpha is so small you recover the same results as for linear regression? What happens when alpha is bigger?"
   ]
  },
  {
   "cell_type": "code",
   "execution_count": 7,
   "metadata": {},
   "outputs": [
    {
     "data": {
      "image/png": "[encoded data removed]",
      "text/plain": [
       "<Figure size 720x720 with 1 Axes>"
      ]
     },
     "metadata": {
      "needs_background": "light"
     },
     "output_type": "display_data"
    }
   ],
   "source": [
    "plt.figure(figsize=(10,10))\n",
    "\n",
    "plt.plot(rr10.coef_,\n",
    "         linestyle='none',\n",
    "         marker='d',\n",
    "         markersize=6,\n",
    "         color='blue',\n",
    "         label=r'Ridge; $\\alpha = 10$') \n",
    "plt.plot(rr.coef_,\n",
    "         linestyle='none',\n",
    "         marker='d',\n",
    "         markersize=6,\n",
    "         color='yellow',\n",
    "         label=r'Ridge; $\\alpha = 0.3$') \n",
    "plt.plot(lr.coef_,\n",
    "         linestyle='none',\n",
    "         marker='s',\n",
    "         markersize=7,\n",
    "         color='green',\n",
    "         label='Linear Regression')\n",
    "plt.plot(rr_small.coef_,\n",
    "         linestyle='none',\n",
    "         marker='*',\n",
    "         markersize=5,\n",
    "         color='red',\n",
    "         label=r'Ridge; $\\alpha = 1e-5$')\n",
    "\n",
    "plt.xlabel('Coefficient Index',fontsize=16)\n",
    "plt.ylabel('Coefficient Magnitude',fontsize=16)\n",
    "plt.legend(fontsize=13,loc=4)\n",
    "plt.show()"
   ]
  },
  {
   "cell_type": "markdown",
   "metadata": {},
   "source": [
    "## Lasso regression\n",
    "\n",
    "The cost function for Lasso (least absolute shrinkage and selection operator) regression can be written as\n",
    "\n",
    "<img src=\"lasso_formula.png\">\n",
    "\n",
    "This type of regularization (L1) can lead to zero coefficients i.e. some of the features are completely neglected for the evaluation of output. So Lasso regression not only helps in reducing over-fitting but it can help us in feature selection.\n",
    "\n",
    "Generate a Lasso model with ```alpha=1e-1``` and ```normalize=True```"
   ]
  },
  {
   "cell_type": "code",
   "execution_count": 8,
   "metadata": {},
   "outputs": [
    {
     "data": {
      "text/plain": [
       "Lasso(alpha=0.1, copy_X=True, fit_intercept=True, max_iter=1000,\n",
       "   normalize=True, positive=False, precompute=False, random_state=None,\n",
       "   selection='cyclic', tol=0.0001, warm_start=False)"
      ]
     },
     "execution_count": 8,
     "metadata": {},
     "output_type": "execute_result"
    }
   ],
   "source": [
    "from sklearn.linear_model import Lasso\n",
    "\n",
    "lasso = Lasso(alpha=1e-1, normalize=True)\n",
    "lasso.fit(X_train,y_train)"
   ]
  },
  {
   "cell_type": "markdown",
   "metadata": {},
   "source": [
    "Now check the number of coefficients that are different than 0. To which parameters would you expect they correspond? You may check if you are right by looking at exercise 1 from the previous session."
   ]
  },
  {
   "cell_type": "code",
   "execution_count": 9,
   "metadata": {},
   "outputs": [
    {
     "name": "stdout",
     "output_type": "stream",
     "text": [
      "number of features used: 3\n"
     ]
    }
   ],
   "source": [
    "coeff_used = np.sum(lasso.coef_!=0)\n",
    "print(f\"number of features used: {coeff_used}\")"
   ]
  },
  {
   "cell_type": "code",
   "execution_count": 10,
   "metadata": {},
   "outputs": [
    {
     "data": {
      "text/plain": [
       "array([-0.        ,  0.        , -0.        ,  0.        , -0.        ,\n",
       "        3.00832491, -0.        , -0.        , -0.        , -0.        ,\n",
       "       -0.25443704,  0.        , -0.5140833 ])"
      ]
     },
     "execution_count": 10,
     "metadata": {},
     "output_type": "execute_result"
    }
   ],
   "source": [
    "lasso.coef_"
   ]
  },
  {
   "cell_type": "code",
   "execution_count": 11,
   "metadata": {},
   "outputs": [
    {
     "data": {
      "text/plain": [
       "Index(['CRIM', 'ZN', 'INDUS', 'CHAS', 'NOX', 'RM', 'AGE', 'DIS', 'RAD', 'TAX',\n",
       "       'PTRATIO', 'B', 'LSTAT'],\n",
       "      dtype='object')"
      ]
     },
     "execution_count": 11,
     "metadata": {},
     "output_type": "execute_result"
    }
   ],
   "source": [
    "boston_df.columns"
   ]
  },
  {
   "cell_type": "markdown",
   "metadata": {},
   "source": [
    "Repeat again the Lasso regression but changing the alpha parameter to 1e-5. How many coefficients will be different than 0 now? And if you use a big alpha, say 100, what should happen?"
   ]
  },
  {
   "cell_type": "code",
   "execution_count": 12,
   "metadata": {},
   "outputs": [
    {
     "name": "stdout",
     "output_type": "stream",
     "text": [
      "number of features used: for alpha=1e-5: 13\n"
     ]
    }
   ],
   "source": [
    "lasso_small = Lasso(alpha=1e-5, normalize=True)\n",
    "lasso_small.fit(X_train,y_train)\n",
    "coeff_used_small = np.sum(lasso_small.coef_!=0)\n",
    "print(f\"number of features used: for alpha=1e-5: {coeff_used_small}\")"
   ]
  },
  {
   "cell_type": "code",
   "execution_count": 13,
   "metadata": {},
   "outputs": [
    {
     "name": "stdout",
     "output_type": "stream",
     "text": [
      "number of features used: for alpha=100: 0\n"
     ]
    }
   ],
   "source": [
    "lasso_large = Lasso(alpha=100, normalize=True)\n",
    "lasso_large.fit(X_train,y_train)\n",
    "coeff_used_large = np.sum(lasso_large.coef_!=0)\n",
    "print(f\"number of features used: for alpha=100: {coeff_used_large}\")"
   ]
  },
  {
   "cell_type": "markdown",
   "metadata": {},
   "source": [
    "Finally train a linear model, plot the coefficients obtained for the different lasso models and compare them with the linear regression."
   ]
  },
  {
   "cell_type": "code",
   "execution_count": 14,
   "metadata": {},
   "outputs": [
    {
     "data": {
      "text/plain": [
       "LinearRegression(copy_X=True, fit_intercept=True, n_jobs=None,\n",
       "         normalize=False)"
      ]
     },
     "execution_count": 14,
     "metadata": {},
     "output_type": "execute_result"
    }
   ],
   "source": [
    "lr = LinearRegression()\n",
    "lr.fit(X_train,y_train)"
   ]
  },
  {
   "cell_type": "code",
   "execution_count": 15,
   "metadata": {},
   "outputs": [
    {
     "data": {
      "image/png": "[encoded data removed]",
      "text/plain": [
       "<Figure size 720x720 with 1 Axes>"
      ]
     },
     "metadata": {
      "needs_background": "light"
     },
     "output_type": "display_data"
    }
   ],
   "source": [
    "plt.figure(figsize=(10,10))\n",
    "\n",
    "plt.plot(lasso.coef_,\n",
    "         linestyle='none',\n",
    "         marker='*',\n",
    "         markersize=5,\n",
    "         color='red',\n",
    "         label=r'Lasso; $\\alpha = 1e-1$',\n",
    "         zorder=7) # alpha here is for transparency\n",
    "\n",
    "plt.plot(lasso_small.coef_,\n",
    "         linestyle='none',\n",
    "         marker='d',\n",
    "         markersize=6,\n",
    "         color='blue',\n",
    "         label=r'Lasso; $\\alpha = 1e-5$')\n",
    "\n",
    "plt.plot(lasso_large.coef_,\n",
    "         linestyle='none',\n",
    "         marker='v',\n",
    "         markersize=6,\n",
    "         color='orange',\n",
    "         label=r'Lasso; $\\alpha = 100$') # alpha here is for transparency\n",
    "plt.plot(lr.coef_,\n",
    "         linestyle='none',\n",
    "         marker='o',\n",
    "         markersize=5,\n",
    "         color='green',\n",
    "         label='Linear Regression',zorder=2)\n",
    "\n",
    "plt.xlabel('Coefficient Index',fontsize=16)\n",
    "plt.ylabel('Coefficient Magnitude',fontsize=16)\n",
    "plt.legend(fontsize=13,loc=4)\n",
    "plt.tight_layout()\n",
    "plt.show()"
   ]
  },
  {
   "cell_type": "markdown",
   "metadata": {},
   "source": [
    "In practice, we will not manually look for the best alpha coefficient. Both in Lasso and ridge regression, the alpha is a hyperparameter. Therefore, we will find the best one via crossvalidation. Fortunately, sklearn has a function that performs CV to find the optimal alpha automatically. Implement a CV with the ```LassoCV``` object. Print the optimal alpha and the score on the test set. Note that there are similar functions for Ridge regression and Elastic net, which has a regularization that combines both L1 and L2 regularizations. Play with the variable `cv` from the `LassoCV` object to perform k-fold cross-validation. What is the minimum value that you can give to `cv`, and the maximum? "
   ]
  },
  {
   "cell_type": "code",
   "execution_count": 16,
   "metadata": {},
   "outputs": [],
   "source": [
    "from sklearn.linear_model import LassoCV\n",
    "\n",
    "reg = LassoCV(cv=4,normalize=True).fit(X_train, y_train)"
   ]
  },
  {
   "cell_type": "code",
   "execution_count": 17,
   "metadata": {},
   "outputs": [
    {
     "data": {
      "text/plain": [
       "0.00037251251576780973"
      ]
     },
     "execution_count": 17,
     "metadata": {},
     "output_type": "execute_result"
    }
   ],
   "source": [
    "reg.alpha_"
   ]
  },
  {
   "cell_type": "code",
   "execution_count": 18,
   "metadata": {},
   "outputs": [
    {
     "data": {
      "text/plain": [
       "0.7141147645981752"
      ]
     },
     "execution_count": 18,
     "metadata": {},
     "output_type": "execute_result"
    }
   ],
   "source": [
    "reg.score(X_test, y_test)"
   ]
  }
 ],
 "metadata": {
  "kernelspec": {
   "display_name": "Python 3",
   "language": "python",
   "name": "python3"
  },
  "language_info": {
   "codemirror_mode": {
    "name": "ipython",
    "version": 3
   },
   "file_extension": ".py",
   "mimetype": "text/x-python",
   "name": "python",
   "nbconvert_exporter": "python",
   "pygments_lexer": "ipython3",
   "version": "3.6.5"
  }
 },
 "nbformat": 4,
 "nbformat_minor": 2
}
