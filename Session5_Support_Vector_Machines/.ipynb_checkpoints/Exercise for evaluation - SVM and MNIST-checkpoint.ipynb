{
 "cells": [
  {
   "cell_type": "markdown",
   "metadata": {},
   "source": [
    "## SVM for hand-written digit recognition\n",
    "\n",
    "As an example of support vector machines in action, let's take a look at the hand-written digit recognition problem. We will use the MNIST dataset, which consists of several thousand gray scale images of hand-written digits. You can load directly the dataset with sklearn."
   ]
  },
  {
   "cell_type": "code",
   "execution_count": 1,
   "metadata": {},
   "outputs": [],
   "source": [
    "import numpy as np\n",
    "import matplotlib.pyplot as plt\n",
    "import seaborn as sns\n",
    "%matplotlib inline\n",
    "sns.set()\n",
    "from sklearn.model_selection import train_test_split\n",
    "from sklearn.svm import SVC\n",
    "from sklearn.metrics import confusion_matrix\n",
    "from sklearn.metrics import accuracy_score\n",
    "from sklearn.model_selection import GridSearchCV\n",
    "from sklearn.ensemble import RandomForestClassifier"
   ]
  },
  {
   "cell_type": "code",
   "execution_count": 2,
   "metadata": {},
   "outputs": [],
   "source": [
    "from sklearn.datasets import load_digits\n",
    "mnist = load_digits(n_class=10)"
   ]
  },
  {
   "cell_type": "markdown",
   "metadata": {},
   "source": [
    "## Visualize and present the dataset"
   ]
  },
  {
   "cell_type": "code",
   "execution_count": 3,
   "metadata": {},
   "outputs": [
    {
     "name": "stdout",
     "output_type": "stream",
     "text": [
      ".. _digits_dataset:\n",
      "\n",
      "Optical recognition of handwritten digits dataset\n",
      "--------------------------------------------------\n",
      "\n",
      "**Data Set Characteristics:**\n",
      "\n",
      "    :Number of Instances: 5620\n",
      "    :Number of Attributes: 64\n",
      "    :Attribute Information: 8x8 image of integer pixels in the range 0..16.\n",
      "    :Missing Attribute Values: None\n",
      "    :Creator: E. Alpaydin (alpaydin '@' boun.edu.tr)\n",
      "    :Date: July; 1998\n",
      "\n",
      "This is a copy of the test set of the UCI ML hand-written digits datasets\n",
      "http://archive.ics.uci.edu/ml/datasets/Optical+Recognition+of+Handwritten+Digits\n",
      "\n",
      "The data set contains images of hand-written digits: 10 classes where\n",
      "each class refers to a digit.\n",
      "\n",
      "Preprocessing programs made available by NIST were used to extract\n",
      "normalized bitmaps of handwritten digits from a preprinted form. From a\n",
      "total of 43 people, 30 contributed to the training set and different 13\n",
      "to the test set. 32x32 bitmaps are divided into nonoverlapping blocks of\n",
      "4x4 and the number of on pixels are counted in each block. This generates\n",
      "an input matrix of 8x8 where each element is an integer in the range\n",
      "0..16. This reduces dimensionality and gives invariance to small\n",
      "distortions.\n",
      "\n",
      "For info on NIST preprocessing routines, see M. D. Garris, J. L. Blue, G.\n",
      "T. Candela, D. L. Dimmick, J. Geist, P. J. Grother, S. A. Janet, and C.\n",
      "L. Wilson, NIST Form-Based Handprint Recognition System, NISTIR 5469,\n",
      "1994.\n",
      "\n",
      ".. topic:: References\n",
      "\n",
      "  - C. Kaynak (1995) Methods of Combining Multiple Classifiers and Their\n",
      "    Applications to Handwritten Digit Recognition, MSc Thesis, Institute of\n",
      "    Graduate Studies in Science and Engineering, Bogazici University.\n",
      "  - E. Alpaydin, C. Kaynak (1998) Cascading Classifiers, Kybernetika.\n",
      "  - Ken Tang and Ponnuthurai N. Suganthan and Xi Yao and A. Kai Qin.\n",
      "    Linear dimensionalityreduction using relevance weighted LDA. School of\n",
      "    Electrical and Electronic Engineering Nanyang Technological University.\n",
      "    2005.\n",
      "  - Claudio Gentile. A New Approximate Maximal Margin Classification\n",
      "    Algorithm. NIPS. 2000.\n"
     ]
    }
   ],
   "source": [
    "print(mnist.DESCR)"
   ]
  },
  {
   "cell_type": "code",
   "execution_count": 4,
   "metadata": {},
   "outputs": [
    {
     "data": {
      "text/plain": [
       "dict_keys(['data', 'target', 'target_names', 'images', 'DESCR'])"
      ]
     },
     "execution_count": 4,
     "metadata": {},
     "output_type": "execute_result"
    }
   ],
   "source": [
    "mnist.keys()"
   ]
  },
  {
   "cell_type": "code",
   "execution_count": 5,
   "metadata": {},
   "outputs": [
    {
     "name": "stdout",
     "output_type": "stream",
     "text": [
      "Data Length 1797\n",
      "Images Length 1797\n",
      "Target Length 1797\n",
      "Target Names [0 1 2 3 4 5 6 7 8 9]\n"
     ]
    }
   ],
   "source": [
    "print('Data Length ' + str(len(mnist.data)))\n",
    "print('Images Length ' + str(len(mnist.data)))\n",
    "print('Target Length ' + str(len(mnist.target)))\n",
    "print('Target Names ' + str(mnist.target_names))"
   ]
  },
  {
   "cell_type": "markdown",
   "metadata": {},
   "source": [
    "Now print again the shape of `mnist.images` and `mnist.data`. What do you think is the relationship between them?"
   ]
  },
  {
   "cell_type": "code",
   "execution_count": 6,
   "metadata": {},
   "outputs": [
    {
     "name": "stdout",
     "output_type": "stream",
     "text": [
      "Data for first item\n",
      "--------------------------------------------------\n",
      "[ 0.  0.  5. 13.  9.  1.  0.  0.  0.  0. 13. 15. 10. 15.  5.  0.  0.  3.\n",
      " 15.  2.  0. 11.  8.  0.  0.  4. 12.  0.  0.  8.  8.  0.  0.  5.  8.  0.\n",
      "  0.  9.  8.  0.  0.  4. 11.  0.  1. 12.  7.  0.  0.  2. 14.  5. 10. 12.\n",
      "  0.  0.  0.  0.  6. 13. 10.  0.  0.  0.]\n",
      "\n",
      "Image for first item\n",
      "--------------------------------------------------\n",
      "[[ 0.  0.  5. 13.  9.  1.  0.  0.]\n",
      " [ 0.  0. 13. 15. 10. 15.  5.  0.]\n",
      " [ 0.  3. 15.  2.  0. 11.  8.  0.]\n",
      " [ 0.  4. 12.  0.  0.  8.  8.  0.]\n",
      " [ 0.  5.  8.  0.  0.  9.  8.  0.]\n",
      " [ 0.  4. 11.  0.  1. 12.  7.  0.]\n",
      " [ 0.  2. 14.  5. 10. 12.  0.  0.]\n",
      " [ 0.  0.  6. 13. 10.  0.  0.  0.]]\n"
     ]
    }
   ],
   "source": [
    "print('Data for first item')\n",
    "print('-' * 50)\n",
    "print(mnist.data[0])\n",
    "print('\\nImage for first item')\n",
    "print('-' * 50)\n",
    "print(mnist.images[0])"
   ]
  },
  {
   "cell_type": "markdown",
   "metadata": {},
   "source": [
    "So in Data and Images we can find the same information, but in Data, we can find the wole data of an image in an array, and in Image, it's the whole data divided in a Matrix of 8x8 (separating by pixels)"
   ]
  },
  {
   "cell_type": "code",
   "execution_count": 7,
   "metadata": {},
   "outputs": [],
   "source": [
    "def plot_images(images, target, test=[]):\n",
    "    if len(test) == 0:\n",
    "        test = target\n",
    "    images_and_labels = list(zip(images, target, test))\n",
    "    for index, (image, label, pred) in enumerate(images_and_labels[:10]):\n",
    "        plt.subplot(2, 5, index + 1)\n",
    "        plt.axis('off')\n",
    "        plt.imshow(image.reshape(8,8), cmap=plt.cm.gray_r, interpolation='nearest')\n",
    "        title =  'Training {0} '.format(label)\n",
    "        if test is not target:\n",
    "            title += '\\n Predicted {0}'.format(pred)\n",
    "\n",
    "        plt.title(title)"
   ]
  },
  {
   "cell_type": "code",
   "execution_count": 8,
   "metadata": {},
   "outputs": [
    {
     "data": {
      "image/png": "[encoded data removed]",
      "text/plain": [
       "<Figure size 432x288 with 10 Axes>"
      ]
     },
     "metadata": {},
     "output_type": "display_data"
    }
   ],
   "source": [
    "plot_images(mnist.data,mnist.target)"
   ]
  },
  {
   "cell_type": "markdown",
   "metadata": {},
   "source": [
    "## Apply the SVC to perform multi-class classification"
   ]
  },
  {
   "cell_type": "code",
   "execution_count": 9,
   "metadata": {},
   "outputs": [],
   "source": [
    "X_train, X_test, y_train, y_test = train_test_split(mnist.data, mnist.target, random_state=3)"
   ]
  },
  {
   "cell_type": "code",
   "execution_count": 10,
   "metadata": {},
   "outputs": [],
   "source": [
    "kernels_and_hyper_parameters = {'rbf': {'C':1.0, 'kernel':'rbf', 'degree':3, 'gamma':'auto'},\n",
    "                               'linear': {'C':1.0, 'kernel':'linear', 'degree':3, 'gamma':'auto'},\n",
    "                               'poly': {'C':1.0, 'kernel':'poly', 'degree':3, 'gamma':'auto'},\n",
    "                               'rbf_high_gamma': {'C':1.0, 'kernel':'rbf', 'degree':3, 'gamma':2},\n",
    "                               'linear_high_gamma': {'C':1.0, 'kernel':'linear', 'degree':3, 'gamma':2},\n",
    "                               'poly_high_gamma': {'C':1.0, 'kernel':'poly', 'degree':3, 'gamma':2},\n",
    "                               'rbf_low_gamma': {'C':1.0, 'kernel':'rbf', 'degree':3, 'gamma':0.0001},\n",
    "                               'linear_low_gamma': {'C':1.0, 'kernel':'linear', 'degree':3, 'gamma':0.0001},\n",
    "                               'poly_low_gamma': {'C':1.0, 'kernel':'poly', 'degree':3, 'gamma':0.1},\n",
    "                               'rbf_medium_gamma': {'C':1.0, 'kernel':'rbf', 'degree':3, 'gamma':0.1},\n",
    "                               'linear_medium_gamma': {'C':1.0, 'kernel':'linear', 'degree':3, 'gamma':0.1},\n",
    "                               'poly_medium_gamma': {'C':1.0, 'kernel':'poly', 'degree':3, 'gamma':0.1},\n",
    "                               'linear_low_C': {'C':0.1, 'kernel':'rbf', 'degree':3, 'gamma':'auto'},\n",
    "                               'poly_low_C': {'C':0.1, 'kernel':'poly', 'degree':3, 'gamma':'auto'},\n",
    "                               'poly_degree_1': {'C':1, 'kernel':'poly', 'degree':1, 'gamma':'auto'},\n",
    "                               'poly_degree_2': {'C':1, 'kernel':'poly', 'degree':2, 'gamma':'auto'},\n",
    "                               'poly_degree_4': {'C':1, 'kernel':'poly', 'degree':4, 'gamma':'auto'},\n",
    "                               'poly_degree_7': {'C':1, 'kernel':'poly', 'degree':7, 'gamma':'auto'}\n",
    "                                }\n"
   ]
  },
  {
   "cell_type": "code",
   "execution_count": 11,
   "metadata": {},
   "outputs": [],
   "source": [
    "predictions = {}\n",
    "for key, value in kernels_and_hyper_parameters.items():\n",
    "    svc = SVC(C=value.get('C'), kernel=value.get('kernel'), degree=value.get('degree'), gamma=value.get('gamma'))\n",
    "    svc.fit(X_train, y_train)\n",
    "    y_pred = svc.predict(X_test)\n",
    "    predictions[key] = y_pred\n",
    "    \n",
    "\n",
    "accuracies = {}\n",
    "for key, prediction in predictions.items():\n",
    "    accuracies[key] = accuracy_score(y_test, prediction)\n",
    "    \n",
    "    "
   ]
  },
  {
   "cell_type": "markdown",
   "metadata": {},
   "source": [
    "## Compute the accuracy score and comment on the results"
   ]
  },
  {
   "cell_type": "code",
   "execution_count": 12,
   "metadata": {},
   "outputs": [
    {
     "data": {
      "text/plain": [
       "[('poly', 0.98),\n",
       " ('poly_high_gamma', 0.98),\n",
       " ('poly_low_gamma', 0.98),\n",
       " ('poly_medium_gamma', 0.98),\n",
       " ('poly_low_C', 0.98),\n",
       " ('poly_degree_2', 0.9777777777777777),\n",
       " ('poly_degree_4', 0.9777777777777777),\n",
       " ('linear', 0.9711111111111111),\n",
       " ('linear_high_gamma', 0.9711111111111111),\n",
       " ('linear_low_gamma', 0.9711111111111111),\n",
       " ('linear_medium_gamma', 0.9711111111111111),\n",
       " ('poly_degree_1', 0.9711111111111111),\n",
       " ('poly_degree_7', 0.9711111111111111),\n",
       " ('rbf_low_gamma', 0.9666666666666667),\n",
       " ('rbf', 0.3422222222222222),\n",
       " ('rbf_high_gamma', 0.07333333333333333),\n",
       " ('rbf_medium_gamma', 0.07333333333333333),\n",
       " ('linear_low_C', 0.07333333333333333)]"
      ]
     },
     "execution_count": 12,
     "metadata": {},
     "output_type": "execute_result"
    }
   ],
   "source": [
    "sorted(accuracies.items(), key=lambda kv: kv[1], reverse=True)"
   ]
  },
  {
   "cell_type": "markdown",
   "metadata": {},
   "source": [
    "### Comment on the usage of the different kernels and the effect of the hyper-parameters\n",
    "\n",
    "From checking different kernels and different values for the hyper-parameters, the kernel is what affects the most.\n",
    "For <b>Kernel Poly</b> what only matters is the degree, increasing the accuracy scores until a specific degree, and starts decreasing when increasing degrees.\n",
    "For other Kernel the hyper-parameters affects much more, like in <b>Linear</b> when C is low, and for <b>rbf</b> that with high gamma scores 8% and with low 97%"
   ]
  },
  {
   "cell_type": "code",
   "execution_count": 13,
   "metadata": {},
   "outputs": [],
   "source": [
    "examples = ['poly','poly_degree_2','linear','rbf_low_gamma','rbf','rbf_high_gamma']"
   ]
  },
  {
   "cell_type": "markdown",
   "metadata": {},
   "source": [
    "### Visualize the results with a confusion matrix\n",
    "\n",
    "In here we selected some different Kernels and Hyper-parameters to plot their confussion mattrix"
   ]
  },
  {
   "cell_type": "code",
   "execution_count": 14,
   "metadata": {},
   "outputs": [
    {
     "data": {
      "image/png": "[encoded data removed]",
      "text/plain": [
       "<Figure size 1440x720 with 12 Axes>"
      ]
     },
     "metadata": {},
     "output_type": "display_data"
    }
   ],
   "source": [
    "i = 1\n",
    "fig, axs = plt.subplots(nrows=2, ncols=3, figsize=(20,10))\n",
    "for key in examples:\n",
    "    plt.subplot(2,3,i)\n",
    "    i += 1\n",
    "    mat = confusion_matrix(y_test, predictions[key])\n",
    "    sns.heatmap(mat, annot=True)\n",
    "    plt.title(key + ': {0:.2f}%'.format(accuracies[key]*100))\n",
    "\n"
   ]
  },
  {
   "cell_type": "markdown",
   "metadata": {},
   "source": [
    "After testing with different Kernels and Hyper-parameters manually, and see different results. We are going to run a GridSearch to find the best Kernel and Hyper-parameters"
   ]
  },
  {
   "cell_type": "code",
   "execution_count": 15,
   "metadata": {},
   "outputs": [
    {
     "name": "stderr",
     "output_type": "stream",
     "text": [
      "/Users/seba/anaconda3/lib/python3.6/site-packages/sklearn/model_selection/_split.py:2053: FutureWarning: You should specify a value for 'cv' instead of relying on the default value. The default value will change from 3 to 5 in version 0.22.\n",
      "  warnings.warn(CV_WARNING, FutureWarning)\n"
     ]
    },
    {
     "data": {
      "text/plain": [
       "GridSearchCV(cv='warn', error_score='raise-deprecating',\n",
       "       estimator=SVC(C=1.0, cache_size=200, class_weight=None, coef0=0.0,\n",
       "  decision_function_shape='ovr', degree=3, gamma='auto_deprecated',\n",
       "  kernel='rbf', max_iter=-1, probability=False, random_state=None,\n",
       "  shrinking=True, tol=0.001, verbose=False),\n",
       "       fit_params=None, iid='warn', n_jobs=None,\n",
       "       param_grid={'kernel': ('linear', 'rbf', 'poly'), 'C': (1, 0.25, 0.5, 0.75), 'gamma': (0.001, 0.01, 'auto'), 'decision_function_shape': ('ovo', 'ovr'), 'shrinking': (True, False), 'degree': (1, 2, 3, 4)},\n",
       "       pre_dispatch='2*n_jobs', refit=True, return_train_score='warn',\n",
       "       scoring=None, verbose=0)"
      ]
     },
     "execution_count": 15,
     "metadata": {},
     "output_type": "execute_result"
    }
   ],
   "source": [
    "kernels_and_hyper_parameters_options = {                           \n",
    "    'kernel':('linear', 'rbf', 'poly'),\n",
    "    'C':(1,0.25,0.5,0.75),\n",
    "    'gamma': (0.001, 0.01,'auto'),\n",
    "    'decision_function_shape':('ovo','ovr'),\n",
    "    'shrinking':(True,False),\n",
    "    'degree': (1,2,3,4)\n",
    "                                }\n",
    "best_params = GridSearchCV(SVC(), kernels_and_hyper_parameters_options)\n",
    "best_params.fit(mnist.data, mnist.target)"
   ]
  },
  {
   "cell_type": "code",
   "execution_count": 16,
   "metadata": {},
   "outputs": [
    {
     "data": {
      "text/plain": [
       "{'C': 1,\n",
       " 'decision_function_shape': 'ovo',\n",
       " 'degree': 1,\n",
       " 'gamma': 0.001,\n",
       " 'kernel': 'rbf',\n",
       " 'shrinking': True}"
      ]
     },
     "execution_count": 16,
     "metadata": {},
     "output_type": "execute_result"
    }
   ],
   "source": [
    "best_params.best_params_"
   ]
  },
  {
   "cell_type": "markdown",
   "metadata": {},
   "source": [
    "So to our surprise the best kernel is rbf, with some specific hyper-parameters"
   ]
  },
  {
   "cell_type": "code",
   "execution_count": 17,
   "metadata": {},
   "outputs": [],
   "source": [
    "svc_best_parameters = SVC(C=1, decision_function_shape='ovo', degree=1, gamma=0.001, kernel='rbf', shrinking=True)\n",
    "svc_best_parameters.fit(X_train, y_train)\n",
    "y_best = svc_best_parameters.predict(X_test)"
   ]
  },
  {
   "cell_type": "code",
   "execution_count": 18,
   "metadata": {},
   "outputs": [
    {
     "data": {
      "text/plain": [
       "0.9911111111111112"
      ]
     },
     "execution_count": 18,
     "metadata": {},
     "output_type": "execute_result"
    }
   ],
   "source": [
    "accuracy_score(y_test, y_best)"
   ]
  },
  {
   "cell_type": "code",
   "execution_count": 19,
   "metadata": {},
   "outputs": [],
   "source": [
    "predictions['best'] = y_best\n",
    "accuracies['best'] = accuracy_score(y_test, y_best)\n",
    "kernels_and_hyper_parameters['best'] = best_params.best_params_"
   ]
  },
  {
   "cell_type": "code",
   "execution_count": 20,
   "metadata": {},
   "outputs": [
    {
     "data": {
      "text/plain": [
       "[('best', 0.9911111111111112),\n",
       " ('poly', 0.98),\n",
       " ('poly_high_gamma', 0.98),\n",
       " ('poly_low_gamma', 0.98),\n",
       " ('poly_medium_gamma', 0.98),\n",
       " ('poly_low_C', 0.98),\n",
       " ('poly_degree_2', 0.9777777777777777),\n",
       " ('poly_degree_4', 0.9777777777777777),\n",
       " ('linear', 0.9711111111111111),\n",
       " ('linear_high_gamma', 0.9711111111111111),\n",
       " ('linear_low_gamma', 0.9711111111111111),\n",
       " ('linear_medium_gamma', 0.9711111111111111),\n",
       " ('poly_degree_1', 0.9711111111111111),\n",
       " ('poly_degree_7', 0.9711111111111111),\n",
       " ('rbf_low_gamma', 0.9666666666666667),\n",
       " ('rbf', 0.3422222222222222),\n",
       " ('rbf_high_gamma', 0.07333333333333333),\n",
       " ('rbf_medium_gamma', 0.07333333333333333),\n",
       " ('linear_low_C', 0.07333333333333333)]"
      ]
     },
     "execution_count": 20,
     "metadata": {},
     "output_type": "execute_result"
    }
   ],
   "source": [
    "sorted(accuracies.items(), key=lambda kv: kv[1], reverse=True)"
   ]
  },
  {
   "cell_type": "markdown",
   "metadata": {},
   "source": [
    "## Create a grid with different test examples showing the predicted and the true label"
   ]
  },
  {
   "cell_type": "code",
   "execution_count": 21,
   "metadata": {},
   "outputs": [
    {
     "data": {
      "image/png": "[encoded data removed]",
      "text/plain": [
       "<Figure size 432x288 with 10 Axes>"
      ]
     },
     "metadata": {},
     "output_type": "display_data"
    }
   ],
   "source": [
    "plot_images(X_test, y_test, predictions['best'])"
   ]
  },
  {
   "cell_type": "code",
   "execution_count": 22,
   "metadata": {},
   "outputs": [
    {
     "data": {
      "image/png": "[encoded data removed]",
      "text/plain": [
       "<Figure size 432x288 with 10 Axes>"
      ]
     },
     "metadata": {},
     "output_type": "display_data"
    }
   ],
   "source": [
    "plot_images(X_test, y_test, predictions['linear_low_C'])"
   ]
  },
  {
   "cell_type": "markdown",
   "metadata": {},
   "source": [
    "### Perform any other experiments that you can think of, always reason about the results!\n",
    "\n",
    "After using SVM and check with different Kernles and Hyper-parameters, now we are going to try with a Random Forest algorithm, and check how it works for this problem"
   ]
  },
  {
   "cell_type": "code",
   "execution_count": 23,
   "metadata": {},
   "outputs": [],
   "source": [
    "random_forest_50 = RandomForestClassifier(n_estimators=50)\n",
    "random_forest_50.fit(X_train, y_train)\n",
    "y_random_forest_50_pred = random_forest_50.predict(X_test)"
   ]
  },
  {
   "cell_type": "code",
   "execution_count": 24,
   "metadata": {},
   "outputs": [],
   "source": [
    "random_forest_200 = RandomForestClassifier(n_estimators=200)\n",
    "random_forest_200.fit(X_train, y_train)\n",
    "y_random_forest_200_pred = random_forest_200.predict(X_test)"
   ]
  },
  {
   "cell_type": "code",
   "execution_count": 25,
   "metadata": {},
   "outputs": [],
   "source": [
    "random_forest_1000 = RandomForestClassifier(n_estimators=1000)\n",
    "random_forest_1000.fit(X_train, y_train)\n",
    "y_random_forest_1000_pred = random_forest_1000.predict(X_test)"
   ]
  },
  {
   "cell_type": "code",
   "execution_count": 26,
   "metadata": {},
   "outputs": [
    {
     "name": "stdout",
     "output_type": "stream",
     "text": [
      "Random Forest with with 50 n_estimators: 97.11%\n",
      "Random Forest with with 200 n_estimators: 97.33%\n",
      "Random Forest with with 1000 n_estimators: 97.78%\n"
     ]
    }
   ],
   "source": [
    "accuracies['rand_for_50'] = accuracy_score(y_test, y_random_forest_50_pred)\n",
    "accuracies['rand_for_200'] = accuracy_score(y_test, y_random_forest_200_pred)\n",
    "accuracies['rand_for_1000'] = accuracy_score(y_test, y_random_forest_1000_pred)\n",
    "\n",
    "kernels_and_hyper_parameters['rand_for_50'] = {'type':'Random Forest', 'n_estimators': 50}\n",
    "kernels_and_hyper_parameters['rand_for_200'] = {'type':'Random Forest', 'n_estimators': 200}\n",
    "kernels_and_hyper_parameters['rand_for_1000'] = {'type':'Random Forest', 'n_estimators': 1000}\n",
    "\n",
    "print('Random Forest with with 50 n_estimators: {0:.2f}%'.format(accuracy_score(y_test, y_random_forest_50_pred)*100))\n",
    "print('Random Forest with with 200 n_estimators: {0:.2f}%'.format(accuracy_score(y_test, y_random_forest_200_pred)*100))\n",
    "print('Random Forest with with 1000 n_estimators: {0:.2f}%'.format(accuracy_score(y_test, y_random_forest_1000_pred)*100))"
   ]
  },
  {
   "cell_type": "markdown",
   "metadata": {},
   "source": [
    "#### Summary\n",
    "The list of each selection, order by accuracy, printing the kernel and hyper-parameters selected"
   ]
  },
  {
   "cell_type": "code",
   "execution_count": 27,
   "metadata": {},
   "outputs": [],
   "source": [
    "sorted_accuracies = sorted(accuracies.items(), key=lambda kv: kv[1], reverse=True)"
   ]
  },
  {
   "cell_type": "code",
   "execution_count": 28,
   "metadata": {},
   "outputs": [
    {
     "name": "stdout",
     "output_type": "stream",
     "text": [
      "best-- Accuracy: 99.11%\n",
      "-- Params:{'C': 1, 'decision_function_shape': 'ovo', 'degree': 1, 'gamma': 0.001, 'kernel': 'rbf', 'shrinking': True}\n",
      "-------------------------------------------------- \n",
      "\n",
      "poly-- Accuracy: 98.00%\n",
      "-- Params:{'C': 1.0, 'kernel': 'poly', 'degree': 3, 'gamma': 'auto'}\n",
      "-------------------------------------------------- \n",
      "\n",
      "poly_high_gamma-- Accuracy: 98.00%\n",
      "-- Params:{'C': 1.0, 'kernel': 'poly', 'degree': 3, 'gamma': 2}\n",
      "-------------------------------------------------- \n",
      "\n",
      "poly_low_gamma-- Accuracy: 98.00%\n",
      "-- Params:{'C': 1.0, 'kernel': 'poly', 'degree': 3, 'gamma': 0.1}\n",
      "-------------------------------------------------- \n",
      "\n",
      "poly_medium_gamma-- Accuracy: 98.00%\n",
      "-- Params:{'C': 1.0, 'kernel': 'poly', 'degree': 3, 'gamma': 0.1}\n",
      "-------------------------------------------------- \n",
      "\n",
      "poly_low_C-- Accuracy: 98.00%\n",
      "-- Params:{'C': 0.1, 'kernel': 'poly', 'degree': 3, 'gamma': 'auto'}\n",
      "-------------------------------------------------- \n",
      "\n",
      "poly_degree_2-- Accuracy: 97.78%\n",
      "-- Params:{'C': 1, 'kernel': 'poly', 'degree': 2, 'gamma': 'auto'}\n",
      "-------------------------------------------------- \n",
      "\n",
      "poly_degree_4-- Accuracy: 97.78%\n",
      "-- Params:{'C': 1, 'kernel': 'poly', 'degree': 4, 'gamma': 'auto'}\n",
      "-------------------------------------------------- \n",
      "\n",
      "rand_for_1000-- Accuracy: 97.78%\n",
      "-- Params:{'type': 'Random Forest', 'n_estimators': 1000}\n",
      "-------------------------------------------------- \n",
      "\n",
      "rand_for_200-- Accuracy: 97.33%\n",
      "-- Params:{'type': 'Random Forest', 'n_estimators': 200}\n",
      "-------------------------------------------------- \n",
      "\n",
      "linear-- Accuracy: 97.11%\n",
      "-- Params:{'C': 1.0, 'kernel': 'linear', 'degree': 3, 'gamma': 'auto'}\n",
      "-------------------------------------------------- \n",
      "\n",
      "linear_high_gamma-- Accuracy: 97.11%\n",
      "-- Params:{'C': 1.0, 'kernel': 'linear', 'degree': 3, 'gamma': 2}\n",
      "-------------------------------------------------- \n",
      "\n",
      "linear_low_gamma-- Accuracy: 97.11%\n",
      "-- Params:{'C': 1.0, 'kernel': 'linear', 'degree': 3, 'gamma': 0.0001}\n",
      "-------------------------------------------------- \n",
      "\n",
      "linear_medium_gamma-- Accuracy: 97.11%\n",
      "-- Params:{'C': 1.0, 'kernel': 'linear', 'degree': 3, 'gamma': 0.1}\n",
      "-------------------------------------------------- \n",
      "\n",
      "poly_degree_1-- Accuracy: 97.11%\n",
      "-- Params:{'C': 1, 'kernel': 'poly', 'degree': 1, 'gamma': 'auto'}\n",
      "-------------------------------------------------- \n",
      "\n",
      "poly_degree_7-- Accuracy: 97.11%\n",
      "-- Params:{'C': 1, 'kernel': 'poly', 'degree': 7, 'gamma': 'auto'}\n",
      "-------------------------------------------------- \n",
      "\n",
      "rand_for_50-- Accuracy: 97.11%\n",
      "-- Params:{'type': 'Random Forest', 'n_estimators': 50}\n",
      "-------------------------------------------------- \n",
      "\n",
      "rbf_low_gamma-- Accuracy: 96.67%\n",
      "-- Params:{'C': 1.0, 'kernel': 'rbf', 'degree': 3, 'gamma': 0.0001}\n",
      "-------------------------------------------------- \n",
      "\n",
      "rbf-- Accuracy: 34.22%\n",
      "-- Params:{'C': 1.0, 'kernel': 'rbf', 'degree': 3, 'gamma': 'auto'}\n",
      "-------------------------------------------------- \n",
      "\n",
      "rbf_high_gamma-- Accuracy: 7.33%\n",
      "-- Params:{'C': 1.0, 'kernel': 'rbf', 'degree': 3, 'gamma': 2}\n",
      "-------------------------------------------------- \n",
      "\n",
      "rbf_medium_gamma-- Accuracy: 7.33%\n",
      "-- Params:{'C': 1.0, 'kernel': 'rbf', 'degree': 3, 'gamma': 0.1}\n",
      "-------------------------------------------------- \n",
      "\n",
      "linear_low_C-- Accuracy: 7.33%\n",
      "-- Params:{'C': 0.1, 'kernel': 'rbf', 'degree': 3, 'gamma': 'auto'}\n",
      "-------------------------------------------------- \n",
      "\n"
     ]
    }
   ],
   "source": [
    "for key, accuracy in sorted_accuracies:\n",
    "    accuracy = '{0:.2f}%'.format(accuracy*100)\n",
    "    print(key + '-- Accuracy: ' + accuracy + '\\n-- Params:' + str(kernels_and_hyper_parameters[key]))\n",
    "    print('-' * 50, '\\n')\n",
    "    \n",
    "        "
   ]
  }
 ],
 "metadata": {
  "kernelspec": {
   "display_name": "Python 3",
   "language": "python",
   "name": "python3"
  },
  "language_info": {
   "codemirror_mode": {
    "name": "ipython",
    "version": 3
   },
   "file_extension": ".py",
   "mimetype": "text/x-python",
   "name": "python",
   "nbconvert_exporter": "python",
   "pygments_lexer": "ipython3",
   "version": "3.6.5"
  }
 },
 "nbformat": 4,
 "nbformat_minor": 2
}
